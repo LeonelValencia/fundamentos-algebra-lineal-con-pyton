{
 "cells": [
  {
   "cell_type": "code",
   "execution_count": 1,
   "id": "17d264d4",
   "metadata": {},
   "outputs": [
    {
     "name": "stdout",
     "output_type": "stream",
     "text": [
      "3.7.16\n"
     ]
    }
   ],
   "source": [
    "from platform import python_version\n",
    "\n",
    "print(python_version())"
   ]
  },
  {
   "cell_type": "markdown",
   "id": "31222981",
   "metadata": {},
   "source": [
    "ejecutar funciones desde otro notebook"
   ]
  },
  {
   "cell_type": "code",
   "execution_count": null,
   "id": "742eccc0",
   "metadata": {},
   "outputs": [],
   "source": [
    "# %run \"..\\\\funciones_auxiliares\""
   ]
  }
 ],
 "metadata": {
  "kernelspec": {
   "display_name": "Python 3 (ipykernel)",
   "language": "python",
   "name": "python3"
  },
  "language_info": {
   "codemirror_mode": {
    "name": "ipython",
    "version": 3
   },
   "file_extension": ".py",
   "mimetype": "text/x-python",
   "name": "python",
   "nbconvert_exporter": "python",
   "pygments_lexer": "ipython3",
   "version": "3.7.16"
  }
 },
 "nbformat": 4,
 "nbformat_minor": 5
}
