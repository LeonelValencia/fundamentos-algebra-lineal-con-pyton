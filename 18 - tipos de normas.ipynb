{
 "cells": [
  {
   "cell_type": "code",
   "execution_count": 1,
   "id": "828616b4",
   "metadata": {},
   "outputs": [],
   "source": [
    "import numpy as np"
   ]
  },
  {
   "cell_type": "markdown",
   "id": "2620dcfd",
   "metadata": {},
   "source": [
    "La norma se usa en machine learning para encontrar errores.\n",
    "\n",
    "* La norma L0: devuelve la cantidad de elementos diferentes de 0 del vector."
   ]
  },
  {
   "cell_type": "code",
   "execution_count": 2,
   "id": "e78198d6",
   "metadata": {},
   "outputs": [
    {
     "name": "stdout",
     "output_type": "stream",
     "text": [
      "4.0\n"
     ]
    }
   ],
   "source": [
    "vector = np.array([1,2,0,5,6,0])\n",
    "\n",
    "print(np.linalg.norm(vector, ord=0))"
   ]
  },
  {
   "cell_type": "code",
   "execution_count": 3,
   "id": "f3655a00",
   "metadata": {},
   "outputs": [
    {
     "data": {
      "text/plain": [
       "5.0"
      ]
     },
     "execution_count": 3,
     "metadata": {},
     "output_type": "execute_result"
    }
   ],
   "source": [
    "vector = np.array([1,-1,1,-1,1])\n",
    "\n",
    "np.linalg.norm(vector, ord=1)"
   ]
  },
  {
   "cell_type": "markdown",
   "id": "349f4227",
   "metadata": {},
   "source": [
    "* **La norma L1**: devuelve la suma de los valores absolutos de los elementos del vector."
   ]
  },
  {
   "cell_type": "code",
   "execution_count": 4,
   "id": "788f439d",
   "metadata": {},
   "outputs": [
    {
     "data": {
      "text/plain": [
       "1.4142135623730951"
      ]
     },
     "execution_count": 4,
     "metadata": {},
     "output_type": "execute_result"
    }
   ],
   "source": [
    "vector = np.array([1,1])\n",
    "np.linalg.norm(vector)"
   ]
  },
  {
   "cell_type": "code",
   "execution_count": 5,
   "id": "d3dcde2e",
   "metadata": {},
   "outputs": [
    {
     "data": {
      "text/plain": [
       "1.4142135623730951"
      ]
     },
     "execution_count": 5,
     "metadata": {},
     "output_type": "execute_result"
    }
   ],
   "source": [
    "np.linalg.norm(vector, ord=2)"
   ]
  },
  {
   "cell_type": "markdown",
   "id": "956cb6ac",
   "metadata": {},
   "source": [
    "* **La norma L2**: La magnitud del vector desde su origen."
   ]
  },
  {
   "cell_type": "code",
   "execution_count": 11,
   "id": "627dc69d",
   "metadata": {},
   "outputs": [
    {
     "data": {
      "text/plain": [
       "array([1, 2, 3, 4, 5, 6])"
      ]
     },
     "execution_count": 11,
     "metadata": {},
     "output_type": "execute_result"
    }
   ],
   "source": [
    "vector = np.array([1,2,3,4,5,6])\n",
    "vector"
   ]
  },
  {
   "cell_type": "code",
   "execution_count": 12,
   "id": "2f53ab77",
   "metadata": {},
   "outputs": [
    {
     "data": {
      "text/plain": [
       "91.0"
      ]
     },
     "execution_count": 12,
     "metadata": {},
     "output_type": "execute_result"
    }
   ],
   "source": [
    "np.linalg.norm(vector, ord=2)**2"
   ]
  },
  {
   "cell_type": "code",
   "execution_count": 13,
   "id": "7fbb4b07",
   "metadata": {},
   "outputs": [
    {
     "data": {
      "text/plain": [
       "91"
      ]
     },
     "execution_count": 13,
     "metadata": {},
     "output_type": "execute_result"
    }
   ],
   "source": [
    "vector.T.dot(vector)"
   ]
  },
  {
   "cell_type": "markdown",
   "id": "8d791bd0",
   "metadata": {},
   "source": [
    "* **La norma infinito**: devuelve el valor absoluto más grande del vector"
   ]
  },
  {
   "cell_type": "code",
   "execution_count": 9,
   "id": "8b589311",
   "metadata": {},
   "outputs": [
    {
     "data": {
      "text/plain": [
       "100.0"
      ]
     },
     "execution_count": 9,
     "metadata": {},
     "output_type": "execute_result"
    }
   ],
   "source": [
    "vector = np.array([1,2,3,-100])\n",
    "np.linalg.norm(vector, ord=np.inf)"
   ]
  },
  {
   "cell_type": "code",
   "execution_count": null,
   "id": "e2a1eba4",
   "metadata": {},
   "outputs": [],
   "source": []
  }
 ],
 "metadata": {
  "kernelspec": {
   "display_name": "Python 3 (ipykernel)",
   "language": "python",
   "name": "python3"
  },
  "language_info": {
   "codemirror_mode": {
    "name": "ipython",
    "version": 3
   },
   "file_extension": ".py",
   "mimetype": "text/x-python",
   "name": "python",
   "nbconvert_exporter": "python",
   "pygments_lexer": "ipython3",
   "version": "3.7.16"
  }
 },
 "nbformat": 4,
 "nbformat_minor": 5
}
